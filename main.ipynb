{
 "cells": [
  {
   "cell_type": "code",
   "execution_count": 10,
   "id": "a90a8216-01da-4816-af16-9771442179ee",
   "metadata": {},
   "outputs": [
    {
     "name": "stdout",
     "output_type": "stream",
     "text": [
      "%pylab is deprecated, use %matplotlib inline and import the required libraries.\n",
      "Populating the interactive namespace from numpy and matplotlib\n"
     ]
    }
   ],
   "source": [
    "%pylab inline\n",
    "from matplotlib.pyplot import style\n",
    "style.use('https://raw.githubusercontent.com/JoseGuzman/minibrain/master/minibrain/paper.mplstyle')\n",
    "import pandas as pd"
   ]
  },
  {
   "cell_type": "code",
   "execution_count": 11,
   "id": "f20d1357-4551-41ef-bd79-01f3ec0d876a",
   "metadata": {},
   "outputs": [
    {
     "name": "stdout",
     "output_type": "stream",
     "text": [
      "The dataset contains 500 observations\n"
     ]
    }
   ],
   "source": [
    "data = pd.read_csv('dataset.csv', index_col=0)\n",
    "data.head()\n",
    "print(f'The dataset contains {data.shape[0]} observations')"
   ]
  },
  {
   "cell_type": "code",
   "execution_count": 17,
   "id": "6ff9772c-259d-4de0-9bd4-0d13febb1134",
   "metadata": {},
   "outputs": [],
   "source": [
    "# Simple linear regression with sklearn\n",
    "from sklearn.linear_model import LinearRegression"
   ]
  },
  {
   "cell_type": "code",
   "execution_count": 22,
   "id": "ff5a8eaf-d495-4914-9510-28358fca827b",
   "metadata": {},
   "outputs": [],
   "source": [
    "LRmodel = LinearRegression() # y = b + wX\n",
    "ChanceOfAdmit = data.loc[:,\"Chance of Admit\"]# dependent variable"
   ]
  },
  {
   "cell_type": "code",
   "execution_count": null,
   "id": "50691f07-eeda-40b2-a1c1-a222af2c1430",
   "metadata": {},
   "outputs": [],
   "source": [
    "# Plot the linear regression for every single independent variable \n",
    "fig, ax = plt.subplots(1,3, figsize=(12,3), sharey=True)\n",
    "fig.tight_layout()\n",
    "\n",
    "# tv is TV investment is a column vector\n",
    "GRE = data.loc[:,['GRE']]\n",
    "\n",
    "LRmodel.fit(tv, sales)\n",
    "\n",
    "ax[0].scatter(tv,sales, s=4, c='red', alpha = 0.3)\n",
    "x = np.linspace(0, tv.max(), num = 200)\n",
    "ax[0].plot(x, LRmodel.predict(x), color = 'brown')\n",
    "ax[0].set_xlabel('TV Investment ($)'), ax[0].set_ylabel('Sales ($)')\n",
    "print(f'Intercept {LRmodel.intercept_:5.2f}, slope {LRmodel.coef_[0]:5.2f}')\n",
    "ax[0].text(x = 0, y =25 , s=f'y = {LRmodel.intercept_:5.2f} + {LRmodel.coef_[0]:5.2f}x', color='brown')\n",
    "\n",
    "# X is Radio investment\n",
    "radio = data.loc[:,['Radio']]\n",
    "\n",
    "LRmodel.fit(radio, sales)\n",
    "\n",
    "ax[1].scatter(radio,sales, s=4, c='C0', alpha = 0.5)\n",
    "x = np.linspace(0, radio.max(), num = 200)\n",
    "ax[1].plot(x, LRmodel.predict(x), color = 'C0')\n",
    "ax[1].set_xlabel('Radio Investment ($)')\n",
    "print(f'Intercept {LRmodel.intercept_:5.2f}, slope {LRmodel.coef_[0]:5.2f}')\n",
    "ax[1].text(x = 0, y =25 , s=f'y = {LRmodel.intercept_:5.2f} + {LRmodel.coef_[0]:5.2f}x', color='C0');\n",
    "\n",
    "# X is Newspaper investment\n",
    "news = data.loc[:,['Newspaper']]\n",
    "\n",
    "LRmodel.fit(news, sales)\n",
    "\n",
    "ax[2].scatter(news,sales, s=4, c='green', alpha = 0.5)\n",
    "x = np.linspace(0, news.max(), num = 200)\n",
    "ax[2].plot(x, LRmodel.predict(x), color = 'green')\n",
    "ax[2].set_xlabel('Newspaper Investment ($)')\n",
    "print(f'Intercept {LRmodel.intercept_:5.2f}, slope {LRmodel.coef_[0]:5.2f}')\n",
    "ax[2].text(x = 0, y =25 , s=f'y = {LRmodel.intercept_:5.2f} + {LRmodel.coef_[0]:5.2f}x', color='darkgreen');\n",
    "\n",
    "\n",
    "for myax in ax:\n",
    "    #myax.set_ylabel('Sales ($)')\n",
    "    myax.set_yticks(np.arange(0,30,5))"
   ]
  }
 ],
 "metadata": {
  "kernelspec": {
   "display_name": "Python 3 (ipykernel)",
   "language": "python",
   "name": "python3"
  },
  "language_info": {
   "codemirror_mode": {
    "name": "ipython",
    "version": 3
   },
   "file_extension": ".py",
   "mimetype": "text/x-python",
   "name": "python",
   "nbconvert_exporter": "python",
   "pygments_lexer": "ipython3",
   "version": "3.10.6"
  }
 },
 "nbformat": 4,
 "nbformat_minor": 5
}
